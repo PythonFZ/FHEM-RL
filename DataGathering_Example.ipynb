{
 "cells": [
  {
   "cell_type": "code",
   "execution_count": 1,
   "metadata": {},
   "outputs": [],
   "source": [
    "from dataGathering import getData, prepareData\n",
    "from filelog_reader import filelog_reader\n",
   ]
  },
  {
   "cell_type": "markdown",
   "metadata": {},
   "source": [
    "# Example with dblog + mysql\n"
   ]
  },
  {
   "cell_type": "code",
   "execution_count": 2,
   "metadata": {},
   "outputs": [],
   "source": [
    "myData = getData()"
   ]
  },
  {
   "cell_type": "markdown",
   "metadata": {},
   "source": [
    "Configuration of getData"
   ]
  },
  {
   "cell_type": "code",
   "execution_count": 3,
   "metadata": {},
   "outputs": [],
   "source": [
    "myData.myIP = '192.168.37.33'\n",
    "myData.myUser = 'fhemuser'\n",
    "myData.myPassword = 'fhempassword'\n",
    "myData.device_list = [['ZWave_SENSOR_NOTIFICATION_7', 'state'],\n",
    "                      ['ZWave_SENSOR_NOTIFICATION_11', 'state'], \n",
    "                      ['ZWave_SENSOR_NOTIFICATION_9', 'state']]\n",
    "myData.identical_readings = [['set_on', 'on'], ['set_off', 'off']]"
   ]
  },
  {
   "cell_type": "markdown",
   "metadata": {},
   "source": [
    "## Query Data\n",
    "1. Data will be queried from mysql-Server and stored in DataFrame\n",
    "2. DataFrame will be processed to contain only device_list items\n",
    "3. DataFrame will be sorted to fit the Timestamp"
   ]
  },
  {
   "cell_type": "code",
   "execution_count": 4,
   "metadata": {},
   "outputs": [
    {
     "data": {
      "text/html": [
       "<div>\n",
       "<style scoped>\n",
       "    .dataframe tbody tr th:only-of-type {\n",
       "        vertical-align: middle;\n",
       "    }\n",
       "\n",
       "    .dataframe tbody tr th {\n",
       "        vertical-align: top;\n",
       "    }\n",
       "\n",
       "    .dataframe thead th {\n",
       "        text-align: right;\n",
       "    }\n",
       "</style>\n",
       "<table border=\"1\" class=\"dataframe\">\n",
       "  <thead>\n",
       "    <tr style=\"text-align: right;\">\n",
       "      <th></th>\n",
       "      <th>DEVICE</th>\n",
       "      <th>VALUE</th>\n",
       "      <th>READING</th>\n",
       "    </tr>\n",
       "    <tr>\n",
       "      <th>TIMESTAMP</th>\n",
       "      <th></th>\n",
       "      <th></th>\n",
       "      <th></th>\n",
       "    </tr>\n",
       "  </thead>\n",
       "  <tbody>\n",
       "    <tr>\n",
       "      <th>2019-03-19 16:26:45</th>\n",
       "      <td>ZWave_SENSOR_NOTIFICATION_7</td>\n",
       "      <td>open</td>\n",
       "      <td>state</td>\n",
       "    </tr>\n",
       "    <tr>\n",
       "      <th>2019-03-19 16:28:46</th>\n",
       "      <td>ZWave_SENSOR_NOTIFICATION_7</td>\n",
       "      <td>closed</td>\n",
       "      <td>state</td>\n",
       "    </tr>\n",
       "    <tr>\n",
       "      <th>2019-03-19 16:29:06</th>\n",
       "      <td>ZWave_SENSOR_NOTIFICATION_11</td>\n",
       "      <td>closed</td>\n",
       "      <td>state</td>\n",
       "    </tr>\n",
       "    <tr>\n",
       "      <th>2019-03-19 17:11:39</th>\n",
       "      <td>ZWave_SENSOR_NOTIFICATION_11</td>\n",
       "      <td>open</td>\n",
       "      <td>state</td>\n",
       "    </tr>\n",
       "    <tr>\n",
       "      <th>2019-03-19 17:14:14</th>\n",
       "      <td>ZWave_SENSOR_NOTIFICATION_11</td>\n",
       "      <td>closed</td>\n",
       "      <td>state</td>\n",
       "    </tr>\n",
       "  </tbody>\n",
       "</table>\n",
       "</div>"
      ],
      "text/plain": [
       "                                           DEVICE   VALUE READING\n",
       "TIMESTAMP                                                        \n",
       "2019-03-19 16:26:45   ZWave_SENSOR_NOTIFICATION_7    open   state\n",
       "2019-03-19 16:28:46   ZWave_SENSOR_NOTIFICATION_7  closed   state\n",
       "2019-03-19 16:29:06  ZWave_SENSOR_NOTIFICATION_11  closed   state\n",
       "2019-03-19 17:11:39  ZWave_SENSOR_NOTIFICATION_11    open   state\n",
       "2019-03-19 17:14:14  ZWave_SENSOR_NOTIFICATION_11  closed   state"
      ]
     },
     "execution_count": 4,
     "metadata": {},
     "output_type": "execute_result"
    }
   ],
   "source": [
    "myData.remoteConnect()\n",
    "myData.clear_reading()\n",
    "myData.sort_df()\n",
    "myData.df.tail()"
   ]
  },
  {
   "cell_type": "markdown",
   "metadata": {},
   "source": [
    "## Pivot Data\n",
    "The Data will be converted to a diffrent Style. Therefore Columnames will be changed and stored in a dictionary"
   ]
  },
  {
   "cell_type": "code",
   "execution_count": 5,
   "metadata": {},
   "outputs": [
    {
     "data": {
      "text/html": [
       "<div>\n",
       "<style scoped>\n",
       "    .dataframe tbody tr th:only-of-type {\n",
       "        vertical-align: middle;\n",
       "    }\n",
       "\n",
       "    .dataframe tbody tr th {\n",
       "        vertical-align: top;\n",
       "    }\n",
       "\n",
       "    .dataframe thead th {\n",
       "        text-align: right;\n",
       "    }\n",
       "</style>\n",
       "<table border=\"1\" class=\"dataframe\">\n",
       "  <thead>\n",
       "    <tr style=\"text-align: right;\">\n",
       "      <th></th>\n",
       "      <th>0</th>\n",
       "      <th>1</th>\n",
       "      <th>2</th>\n",
       "    </tr>\n",
       "    <tr>\n",
       "      <th>TIMESTAMP</th>\n",
       "      <th></th>\n",
       "      <th></th>\n",
       "      <th></th>\n",
       "    </tr>\n",
       "  </thead>\n",
       "  <tbody>\n",
       "    <tr>\n",
       "      <th>2019-03-19 16:26:45</th>\n",
       "      <td>NaN</td>\n",
       "      <td>open</td>\n",
       "      <td>NaN</td>\n",
       "    </tr>\n",
       "    <tr>\n",
       "      <th>2019-03-19 16:28:46</th>\n",
       "      <td>NaN</td>\n",
       "      <td>closed</td>\n",
       "      <td>NaN</td>\n",
       "    </tr>\n",
       "    <tr>\n",
       "      <th>2019-03-19 16:29:06</th>\n",
       "      <td>closed</td>\n",
       "      <td>NaN</td>\n",
       "      <td>NaN</td>\n",
       "    </tr>\n",
       "    <tr>\n",
       "      <th>2019-03-19 17:11:39</th>\n",
       "      <td>open</td>\n",
       "      <td>NaN</td>\n",
       "      <td>NaN</td>\n",
       "    </tr>\n",
       "    <tr>\n",
       "      <th>2019-03-19 17:14:14</th>\n",
       "      <td>closed</td>\n",
       "      <td>NaN</td>\n",
       "      <td>NaN</td>\n",
       "    </tr>\n",
       "  </tbody>\n",
       "</table>\n",
       "</div>"
      ],
      "text/plain": [
       "                          0       1    2\n",
       "TIMESTAMP                               \n",
       "2019-03-19 16:26:45     NaN    open  NaN\n",
       "2019-03-19 16:28:46     NaN  closed  NaN\n",
       "2019-03-19 16:29:06  closed     NaN  NaN\n",
       "2019-03-19 17:11:39    open     NaN  NaN\n",
       "2019-03-19 17:14:14  closed     NaN  NaN"
      ]
     },
     "execution_count": 5,
     "metadata": {},
     "output_type": "execute_result"
    }
   ],
   "source": [
    "myData.pivot_to_readings()\n",
    "myData.df.tail()"
   ]
  },
  {
   "cell_type": "code",
   "execution_count": 6,
   "metadata": {},
   "outputs": [
    {
     "data": {
      "text/plain": [
       "{0: ('ZWave_SENSOR_NOTIFICATION_11', 'state'),\n",
       " 1: ('ZWave_SENSOR_NOTIFICATION_7', 'state'),\n",
       " 2: ('ZWave_SENSOR_NOTIFICATION_9', 'state')}"
      ]
     },
     "execution_count": 6,
     "metadata": {},
     "output_type": "execute_result"
    }
   ],
   "source": [
    "myData.device_reading_token"
   ]
  },
  {
   "cell_type": "markdown",
   "metadata": {},
   "source": [
    "# Example with filelog"
   ]
  },
  {
   "cell_type": "code",
   "execution_count": 7,
   "metadata": {},
   "outputs": [
    {
     "data": {
      "text/html": [
       "<div>\n",
       "<style scoped>\n",
       "    .dataframe tbody tr th:only-of-type {\n",
       "        vertical-align: middle;\n",
       "    }\n",
       "\n",
       "    .dataframe tbody tr th {\n",
       "        vertical-align: top;\n",
       "    }\n",
       "\n",
       "    .dataframe thead th {\n",
       "        text-align: right;\n",
       "    }\n",
       "</style>\n",
       "<table border=\"1\" class=\"dataframe\">\n",
       "  <thead>\n",
       "    <tr style=\"text-align: right;\">\n",
       "      <th></th>\n",
       "      <th>DEVICE</th>\n",
       "      <th>READING</th>\n",
       "      <th>VALUE</th>\n",
       "    </tr>\n",
       "    <tr>\n",
       "      <th>TIMESTAMP</th>\n",
       "      <th></th>\n",
       "      <th></th>\n",
       "      <th></th>\n",
       "    </tr>\n",
       "  </thead>\n",
       "  <tbody>\n",
       "    <tr>\n",
       "      <th>2019-02-27 18:05:52</th>\n",
       "      <td>Hideki_30_1</td>\n",
       "      <td>temperature:</td>\n",
       "      <td>16.6</td>\n",
       "    </tr>\n",
       "    <tr>\n",
       "      <th>2019-02-27 18:05:52</th>\n",
       "      <td>Hideki_30_1</td>\n",
       "      <td>package_number:</td>\n",
       "      <td>1</td>\n",
       "    </tr>\n",
       "    <tr>\n",
       "      <th>2019-02-27 18:05:52</th>\n",
       "      <td>Hideki_30_1</td>\n",
       "      <td>humidity:</td>\n",
       "      <td>34</td>\n",
       "    </tr>\n",
       "    <tr>\n",
       "      <th>2019-02-27 18:05:52</th>\n",
       "      <td>Hideki_30_1</td>\n",
       "      <td>comfort_level:</td>\n",
       "      <td>Dry. Less than 40% RH</td>\n",
       "    </tr>\n",
       "    <tr>\n",
       "      <th>2019-02-27 18:05:53</th>\n",
       "      <td>Hideki_30_1</td>\n",
       "      <td>package_number:</td>\n",
       "      <td>3</td>\n",
       "    </tr>\n",
       "  </tbody>\n",
       "</table>\n",
       "</div>"
      ],
      "text/plain": [
       "                          DEVICE          READING                  VALUE\n",
       "TIMESTAMP                                                               \n",
       "2019-02-27 18:05:52  Hideki_30_1     temperature:                   16.6\n",
       "2019-02-27 18:05:52  Hideki_30_1  package_number:                      1\n",
       "2019-02-27 18:05:52  Hideki_30_1        humidity:                     34\n",
       "2019-02-27 18:05:52  Hideki_30_1   comfort_level:  Dry. Less than 40% RH\n",
       "2019-02-27 18:05:53  Hideki_30_1  package_number:                      3"
      ]
     },
     "execution_count": 7,
     "metadata": {},
     "output_type": "execute_result"
    }
   ],
   "source": [
    "my_files = ['./FileLog/Hideki_30_1-2019.log']\n",
    "my_db = filelog_reader(file_list=my_files)\n",
    "my_db.tail()"
   ]
  },
  {
   "cell_type": "code",
   "execution_count": 8,
   "metadata": {},
   "outputs": [],
   "source": [
    "filelog_data = getData()"
   ]
  },
  {
   "cell_type": "code",
   "execution_count": 9,
   "metadata": {},
   "outputs": [
    {
     "name": "stderr",
     "output_type": "stream",
     "text": [
      "C:\\Users\\fabia\\PycharmProjects\\FHEM_RL\\dataGathering.py:108: SettingWithCopyWarning: \n",
      "A value is trying to be set on a copy of a slice from a DataFrame.\n",
      "Try using .loc[row_indexer,col_indexer] = value instead\n",
      "\n",
      "See the caveats in the documentation: http://pandas.pydata.org/pandas-docs/stable/indexing.html#indexing-view-versus-copy\n",
      "  data['join'] = data['DEVICE'] + '.' + data['READING']\n",
      "C:\\Users\\fabia\\PycharmProjects\\FHEM_RL\\dataGathering.py:111: SettingWithCopyWarning: \n",
      "A value is trying to be set on a copy of a slice from a DataFrame.\n",
      "Try using .loc[row_indexer,col_indexer] = value instead\n",
      "\n",
      "See the caveats in the documentation: http://pandas.pydata.org/pandas-docs/stable/indexing.html#indexing-view-versus-copy\n",
      "  data['join'] = data['join'].replace(f'{element[0]}.{element[1]}', idx)\n"
     ]
    },
    {
     "data": {
      "text/html": [
       "<div>\n",
       "<style scoped>\n",
       "    .dataframe tbody tr th:only-of-type {\n",
       "        vertical-align: middle;\n",
       "    }\n",
       "\n",
       "    .dataframe tbody tr th {\n",
       "        vertical-align: top;\n",
       "    }\n",
       "\n",
       "    .dataframe thead th {\n",
       "        text-align: right;\n",
       "    }\n",
       "</style>\n",
       "<table border=\"1\" class=\"dataframe\">\n",
       "  <thead>\n",
       "    <tr style=\"text-align: right;\">\n",
       "      <th></th>\n",
       "      <th>DEVICE</th>\n",
       "      <th>READING</th>\n",
       "      <th>VALUE</th>\n",
       "    </tr>\n",
       "    <tr>\n",
       "      <th>TIMESTAMP</th>\n",
       "      <th></th>\n",
       "      <th></th>\n",
       "      <th></th>\n",
       "    </tr>\n",
       "  </thead>\n",
       "  <tbody>\n",
       "    <tr>\n",
       "      <th>2019-02-27 17:49:24</th>\n",
       "      <td>Hideki_30_1</td>\n",
       "      <td>T:</td>\n",
       "      <td>17.9 H: 34</td>\n",
       "    </tr>\n",
       "    <tr>\n",
       "      <th>2019-02-27 17:49:24</th>\n",
       "      <td>Hideki_30_1</td>\n",
       "      <td>humidity:</td>\n",
       "      <td>34</td>\n",
       "    </tr>\n",
       "    <tr>\n",
       "      <th>2019-02-27 17:52:58</th>\n",
       "      <td>Hideki_30_1</td>\n",
       "      <td>T:</td>\n",
       "      <td>17.6 H: 34</td>\n",
       "    </tr>\n",
       "    <tr>\n",
       "      <th>2019-02-27 18:05:52</th>\n",
       "      <td>Hideki_30_1</td>\n",
       "      <td>T:</td>\n",
       "      <td>16.6 H: 34</td>\n",
       "    </tr>\n",
       "    <tr>\n",
       "      <th>2019-02-27 18:05:52</th>\n",
       "      <td>Hideki_30_1</td>\n",
       "      <td>humidity:</td>\n",
       "      <td>34</td>\n",
       "    </tr>\n",
       "  </tbody>\n",
       "</table>\n",
       "</div>"
      ],
      "text/plain": [
       "                          DEVICE    READING       VALUE\n",
       "TIMESTAMP                                              \n",
       "2019-02-27 17:49:24  Hideki_30_1         T:  17.9 H: 34\n",
       "2019-02-27 17:49:24  Hideki_30_1  humidity:          34\n",
       "2019-02-27 17:52:58  Hideki_30_1         T:  17.6 H: 34\n",
       "2019-02-27 18:05:52  Hideki_30_1         T:  16.6 H: 34\n",
       "2019-02-27 18:05:52  Hideki_30_1  humidity:          34"
      ]
     },
     "execution_count": 9,
     "metadata": {},
     "output_type": "execute_result"
    }
   ],
   "source": [
    "filelog_data.df = my_db\n",
    "filelog_data.device_list = [['Hideki_30_1', 'T:'],['Hideki_30_1', 'humidity:']]\n",
    "filelog_data.clear_reading()\n",
    "filelog_data.sort_df()\n",
    "filelog_data.df.tail()"
   ]
  },
  {
   "cell_type": "code",
   "execution_count": 10,
   "metadata": {},
   "outputs": [
    {
     "data": {
      "text/html": [
       "<div>\n",
       "<style scoped>\n",
       "    .dataframe tbody tr th:only-of-type {\n",
       "        vertical-align: middle;\n",
       "    }\n",
       "\n",
       "    .dataframe tbody tr th {\n",
       "        vertical-align: top;\n",
       "    }\n",
       "\n",
       "    .dataframe thead th {\n",
       "        text-align: right;\n",
       "    }\n",
       "</style>\n",
       "<table border=\"1\" class=\"dataframe\">\n",
       "  <thead>\n",
       "    <tr style=\"text-align: right;\">\n",
       "      <th></th>\n",
       "      <th>0</th>\n",
       "      <th>1</th>\n",
       "    </tr>\n",
       "    <tr>\n",
       "      <th>TIMESTAMP</th>\n",
       "      <th></th>\n",
       "      <th></th>\n",
       "    </tr>\n",
       "  </thead>\n",
       "  <tbody>\n",
       "    <tr>\n",
       "      <th>2019-02-27 17:27:10</th>\n",
       "      <td>19.6 H: 34</td>\n",
       "      <td>34</td>\n",
       "    </tr>\n",
       "    <tr>\n",
       "      <th>2019-02-27 17:30:02</th>\n",
       "      <td>19.4 H: 34</td>\n",
       "      <td>NaN</td>\n",
       "    </tr>\n",
       "    <tr>\n",
       "      <th>2019-02-27 17:49:24</th>\n",
       "      <td>17.9 H: 34</td>\n",
       "      <td>34</td>\n",
       "    </tr>\n",
       "    <tr>\n",
       "      <th>2019-02-27 17:52:58</th>\n",
       "      <td>17.6 H: 34</td>\n",
       "      <td>NaN</td>\n",
       "    </tr>\n",
       "    <tr>\n",
       "      <th>2019-02-27 18:05:52</th>\n",
       "      <td>16.6 H: 34</td>\n",
       "      <td>34</td>\n",
       "    </tr>\n",
       "  </tbody>\n",
       "</table>\n",
       "</div>"
      ],
      "text/plain": [
       "                              0    1\n",
       "TIMESTAMP                           \n",
       "2019-02-27 17:27:10  19.6 H: 34   34\n",
       "2019-02-27 17:30:02  19.4 H: 34  NaN\n",
       "2019-02-27 17:49:24  17.9 H: 34   34\n",
       "2019-02-27 17:52:58  17.6 H: 34  NaN\n",
       "2019-02-27 18:05:52  16.6 H: 34   34"
      ]
     },
     "execution_count": 10,
     "metadata": {},
     "output_type": "execute_result"
    }
   ],
   "source": [
    "filelog_data.pivot_to_readings()\n",
    "filelog_data.df.tail()"
   ]
  },
  {
   "cell_type": "code",
   "execution_count": 11,
   "metadata": {},
   "outputs": [
    {
     "data": {
      "text/plain": [
       "{0: ('Hideki_30_1', 'T:'), 1: ('Hideki_30_1', 'humidity:')}"
      ]
     },
     "execution_count": 11,
     "metadata": {},
     "output_type": "execute_result"
    }
   ],
   "source": [
    "filelog_data.device_reading_token"
   ]
  },
  {
   "cell_type": "markdown",
   "metadata": {},
   "source": [
    "# Preparing Data for processing\n",
    "To work with the data it will be transfered to a new format. Here we can see the state of all Devices at a specific timestamp. This is achieved using ffill to transfer the state of the device to any new timestamp, if there is no change in the log.\n",
    "Furthermore the Data will be converted to a one_hot DataFrame. This is primarly usefull if you are working with discrete values. Processing floating values will be described later."
   ]
  },
  {
   "cell_type": "code",
   "execution_count": 12,
   "metadata": {},
   "outputs": [],
   "source": [
    "myPrep = prepareData(df=myData.df, device_reading_token=myData.device_reading_token)"
   ]
  },
  {
   "cell_type": "code",
   "execution_count": 13,
   "metadata": {},
   "outputs": [],
   "source": [
    "myPrep.to_one_hot()"
   ]
  },
  {
   "cell_type": "code",
   "execution_count": 14,
   "metadata": {},
   "outputs": [
    {
     "data": {
      "text/html": [
       "<div>\n",
       "<style scoped>\n",
       "    .dataframe tbody tr th:only-of-type {\n",
       "        vertical-align: middle;\n",
       "    }\n",
       "\n",
       "    .dataframe tbody tr th {\n",
       "        vertical-align: top;\n",
       "    }\n",
       "\n",
       "    .dataframe thead th {\n",
       "        text-align: right;\n",
       "    }\n",
       "</style>\n",
       "<table border=\"1\" class=\"dataframe\">\n",
       "  <thead>\n",
       "    <tr style=\"text-align: right;\">\n",
       "      <th></th>\n",
       "      <th>0</th>\n",
       "      <th>1</th>\n",
       "      <th>2</th>\n",
       "      <th>3</th>\n",
       "      <th>4</th>\n",
       "      <th>5</th>\n",
       "    </tr>\n",
       "    <tr>\n",
       "      <th>TIMESTAMP</th>\n",
       "      <th></th>\n",
       "      <th></th>\n",
       "      <th></th>\n",
       "      <th></th>\n",
       "      <th></th>\n",
       "      <th></th>\n",
       "    </tr>\n",
       "  </thead>\n",
       "  <tbody>\n",
       "    <tr>\n",
       "      <th>2019-03-19 16:26:45</th>\n",
       "      <td>0</td>\n",
       "      <td>1</td>\n",
       "      <td>0</td>\n",
       "      <td>1</td>\n",
       "      <td>0</td>\n",
       "      <td>1</td>\n",
       "    </tr>\n",
       "    <tr>\n",
       "      <th>2019-03-19 16:28:46</th>\n",
       "      <td>0</td>\n",
       "      <td>1</td>\n",
       "      <td>1</td>\n",
       "      <td>0</td>\n",
       "      <td>0</td>\n",
       "      <td>1</td>\n",
       "    </tr>\n",
       "    <tr>\n",
       "      <th>2019-03-19 16:29:06</th>\n",
       "      <td>1</td>\n",
       "      <td>0</td>\n",
       "      <td>1</td>\n",
       "      <td>0</td>\n",
       "      <td>0</td>\n",
       "      <td>1</td>\n",
       "    </tr>\n",
       "    <tr>\n",
       "      <th>2019-03-19 17:11:39</th>\n",
       "      <td>0</td>\n",
       "      <td>1</td>\n",
       "      <td>1</td>\n",
       "      <td>0</td>\n",
       "      <td>0</td>\n",
       "      <td>1</td>\n",
       "    </tr>\n",
       "    <tr>\n",
       "      <th>2019-03-19 17:14:14</th>\n",
       "      <td>1</td>\n",
       "      <td>0</td>\n",
       "      <td>1</td>\n",
       "      <td>0</td>\n",
       "      <td>0</td>\n",
       "      <td>1</td>\n",
       "    </tr>\n",
       "  </tbody>\n",
       "</table>\n",
       "</div>"
      ],
      "text/plain": [
       "                     0  1  2  3  4  5\n",
       "TIMESTAMP                            \n",
       "2019-03-19 16:26:45  0  1  0  1  0  1\n",
       "2019-03-19 16:28:46  0  1  1  0  0  1\n",
       "2019-03-19 16:29:06  1  0  1  0  0  1\n",
       "2019-03-19 17:11:39  0  1  1  0  0  1\n",
       "2019-03-19 17:14:14  1  0  1  0  0  1"
      ]
     },
     "execution_count": 14,
     "metadata": {},
     "output_type": "execute_result"
    }
   ],
   "source": [
    "myPrep.df.tail()"
   ]
  },
  {
   "cell_type": "code",
   "execution_count": 15,
   "metadata": {},
   "outputs": [
    {
     "data": {
      "text/plain": [
       "{0: ('ZWave_SENSOR_NOTIFICATION_11', 'state', 'closed'),\n",
       " 1: ('ZWave_SENSOR_NOTIFICATION_11', 'state', 'open'),\n",
       " 2: ('ZWave_SENSOR_NOTIFICATION_7', 'state', 'closed'),\n",
       " 3: ('ZWave_SENSOR_NOTIFICATION_7', 'state', 'open'),\n",
       " 4: ('ZWave_SENSOR_NOTIFICATION_9', 'state', 'open'),\n",
       " 5: ('ZWave_SENSOR_NOTIFICATION_9', 'state', 'closed')}"
      ]
     },
     "execution_count": 15,
     "metadata": {},
     "output_type": "execute_result"
    }
   ],
   "source": [
    "myPrep.device_reading_state_token"
   ]
  },
  {
   "cell_type": "markdown",
   "metadata": {},
   "source": [
    "## Getting all possible States\n",
    "This dictionary contains all combination of states, that can be found in the given DataFrame"
   ]
  },
  {
   "cell_type": "code",
   "execution_count": 16,
   "metadata": {},
   "outputs": [
    {
     "data": {
      "text/plain": [
       "{(0, 0, 1, 0, 0, 0): 0,\n",
       " (1, 0, 1, 0, 0, 0): 1,\n",
       " (1, 0, 0, 1, 0, 0): 2,\n",
       " (0, 1, 1, 0, 0, 0): 3,\n",
       " (0, 1, 0, 1, 0, 0): 4,\n",
       " (0, 1, 0, 1, 1, 0): 5,\n",
       " (0, 1, 1, 0, 1, 0): 6,\n",
       " (1, 0, 1, 0, 1, 0): 7,\n",
       " (1, 0, 1, 0, 0, 1): 8,\n",
       " (1, 0, 0, 1, 0, 1): 9,\n",
       " (1, 0, 0, 1, 1, 0): 10,\n",
       " (0, 1, 1, 0, 0, 1): 11,\n",
       " (0, 1, 0, 1, 0, 1): 12}"
      ]
     },
     "execution_count": 16,
     "metadata": {},
     "output_type": "execute_result"
    }
   ],
   "source": [
    "myPrep.get_all_actions()\n",
    "myPrep.actionspace_dict"
   ]
  },
  {
   "cell_type": "markdown",
   "metadata": {},
   "source": [
    "## Getting all changes\n",
    "In comparison to all given states, this dictionary contains all observable changes in the DataFrame. This is presumably more usefull, because errors may be less likely if you try to predict a certain change instead of the complete state of a system."
   ]
  },
  {
   "cell_type": "code",
   "execution_count": 17,
   "metadata": {},
   "outputs": [
    {
     "data": {
      "text/plain": [
       "{(0, 0, 0, 0, 0, 0): 0,\n",
       " (0, 0, 0, 0, 0, 1): 1,\n",
       " (0, 0, 0, 0, 1, 0): 2,\n",
       " (0, 0, 0, 1, 0, 0): 3,\n",
       " (0, 0, 0, 1, 0, 1): 4,\n",
       " (0, 0, 0, 1, 1, 0): 5,\n",
       " (0, 0, 1, 0, 0, 0): 6,\n",
       " (0, 0, 1, 0, 0, 1): 7,\n",
       " (0, 1, 0, 0, 0, 0): 8,\n",
       " (0, 1, 0, 1, 0, 0): 9,\n",
       " (0, 1, 1, 0, 0, 0): 10,\n",
       " (1, 0, 0, 0, 0, 0): 11,\n",
       " (1, 0, 1, 0, 0, 0): 12,\n",
       " (1, 0, 1, 0, 0, 1): 13}"
      ]
     },
     "execution_count": 17,
     "metadata": {},
     "output_type": "execute_result"
    }
   ],
   "source": [
    "myPrep.get_all_changes()\n",
    "myPrep.actionspace_dict"
   ]
  },
  {
   "cell_type": "markdown",
   "metadata": {},
   "source": [
    "# Adding floating values\n",
    "Floating Values can be queried and processed very similar. They usually will be normalized for use with NN. To Combine Floating Values and \"static\" Values they have to be concatinated (prepareData.fit_data_to_df - experimental!)"
   ]
  },
  {
   "cell_type": "code",
   "execution_count": 18,
   "metadata": {},
   "outputs": [],
   "source": [
    "myFloats = getData()"
   ]
  },
  {
   "cell_type": "code",
   "execution_count": 19,
   "metadata": {},
   "outputs": [],
   "source": [
    "myData.myIP = '192.168.37.33'\n",
    "myData.myUser = 'fhemuser'\n",
    "myData.myPassword = 'fhempassword'\n",
    "myFloats.device_list = [['ZWave_SENSOR_NOTIFICATION_7', 'luminance'], \n",
    "                        ['ZWave_SENSOR_NOTIFICATION_9','luminance'],\n",
    "                        ['ZWave_SENSOR_NOTIFICATION_11','luminance']]"
   ]
  },
  {
   "cell_type": "code",
   "execution_count": 20,
   "metadata": {},
   "outputs": [
    {
     "data": {
      "text/plain": [
       "{0: ('ZWave_SENSOR_NOTIFICATION_11', 'luminance'),\n",
       " 1: ('ZWave_SENSOR_NOTIFICATION_7', 'luminance'),\n",
       " 2: ('ZWave_SENSOR_NOTIFICATION_9', 'luminance')}"
      ]
     },
     "execution_count": 20,
     "metadata": {},
     "output_type": "execute_result"
    }
   ],
   "source": [
    "myFloats.remoteConnect()\n",
    "myFloats.clear_reading()\n",
    "myFloats.sort_df()\n",
    "myFloats.pivot_to_readings()\n",
    "myFloats.device_reading_token"
   ]
  },
  {
   "cell_type": "code",
   "execution_count": 21,
   "metadata": {},
   "outputs": [],
   "source": [
    "floatPrep = prepareData(df=myFloats.df, device_reading_token=myFloats.device_reading_token)\n",
    "floatPrep.normalize_data()"
   ]
  },
  {
   "cell_type": "code",
   "execution_count": 22,
   "metadata": {},
   "outputs": [
    {
     "data": {
      "text/html": [
       "<div>\n",
       "<style scoped>\n",
       "    .dataframe tbody tr th:only-of-type {\n",
       "        vertical-align: middle;\n",
       "    }\n",
       "\n",
       "    .dataframe tbody tr th {\n",
       "        vertical-align: top;\n",
       "    }\n",
       "\n",
       "    .dataframe thead th {\n",
       "        text-align: right;\n",
       "    }\n",
       "</style>\n",
       "<table border=\"1\" class=\"dataframe\">\n",
       "  <thead>\n",
       "    <tr style=\"text-align: right;\">\n",
       "      <th></th>\n",
       "      <th>0</th>\n",
       "      <th>1</th>\n",
       "      <th>2</th>\n",
       "    </tr>\n",
       "    <tr>\n",
       "      <th>TIMESTAMP</th>\n",
       "      <th></th>\n",
       "      <th></th>\n",
       "      <th></th>\n",
       "    </tr>\n",
       "  </thead>\n",
       "  <tbody>\n",
       "    <tr>\n",
       "      <th>2019-03-19 16:06:54</th>\n",
       "      <td>0.347971</td>\n",
       "      <td>0.278797</td>\n",
       "      <td>0.987432</td>\n",
       "    </tr>\n",
       "    <tr>\n",
       "      <th>2019-03-19 16:15:01</th>\n",
       "      <td>0.347971</td>\n",
       "      <td>0.278797</td>\n",
       "      <td>0.243370</td>\n",
       "    </tr>\n",
       "    <tr>\n",
       "      <th>2019-03-19 16:29:30</th>\n",
       "      <td>-0.372958</td>\n",
       "      <td>0.278797</td>\n",
       "      <td>0.243370</td>\n",
       "    </tr>\n",
       "    <tr>\n",
       "      <th>2019-03-19 16:43:05</th>\n",
       "      <td>-0.372958</td>\n",
       "      <td>0.278797</td>\n",
       "      <td>-0.486451</td>\n",
       "    </tr>\n",
       "    <tr>\n",
       "      <th>2019-03-19 17:06:55</th>\n",
       "      <td>-0.372958</td>\n",
       "      <td>-0.316763</td>\n",
       "      <td>-0.486451</td>\n",
       "    </tr>\n",
       "  </tbody>\n",
       "</table>\n",
       "</div>"
      ],
      "text/plain": [
       "                            0         1         2\n",
       "TIMESTAMP                                        \n",
       "2019-03-19 16:06:54  0.347971  0.278797  0.987432\n",
       "2019-03-19 16:15:01  0.347971  0.278797  0.243370\n",
       "2019-03-19 16:29:30 -0.372958  0.278797  0.243370\n",
       "2019-03-19 16:43:05 -0.372958  0.278797 -0.486451\n",
       "2019-03-19 17:06:55 -0.372958 -0.316763 -0.486451"
      ]
     },
     "execution_count": 22,
     "metadata": {},
     "output_type": "execute_result"
    }
   ],
   "source": [
    "floatPrep.df.tail()"
   ]
  },
  {
   "cell_type": "code",
   "execution_count": 23,
   "metadata": {},
   "outputs": [
    {
     "data": {
      "text/plain": [
       "{0: ('ZWave_SENSOR_NOTIFICATION_11', 'luminance'),\n",
       " 1: ('ZWave_SENSOR_NOTIFICATION_7', 'luminance'),\n",
       " 2: ('ZWave_SENSOR_NOTIFICATION_9', 'luminance')}"
      ]
     },
     "execution_count": 23,
     "metadata": {},
     "output_type": "execute_result"
    }
   ],
   "source": [
    "floatPrep.device_reading_token"
   ]
  },
  {
   "cell_type": "code",
   "execution_count": null,
   "metadata": {},
   "outputs": [],
   "source": []
  }
 ],
 "metadata": {
  "kernelspec": {
   "display_name": "Python 3",
   "language": "python",
   "name": "python3"
  },
  "language_info": {
   "codemirror_mode": {
    "name": "ipython",
    "version": 3
   },
   "file_extension": ".py",
   "mimetype": "text/x-python",
   "name": "python",
   "nbconvert_exporter": "python",
   "pygments_lexer": "ipython3",
   "version": "3.6.8"
  }
 },
 "nbformat": 4,
 "nbformat_minor": 2
}
